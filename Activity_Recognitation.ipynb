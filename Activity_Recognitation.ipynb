{
  "nbformat": 4,
  "nbformat_minor": 0,
  "metadata": {
    "colab": {
      "name": "Activity_Recognitation.ipynb",
      "provenance": [],
      "collapsed_sections": [],
      "authorship_tag": "ABX9TyOMWGH3z+mjFwITKLLiAfvs",
      "include_colab_link": true
    },
    "kernelspec": {
      "name": "python3",
      "display_name": "Python 3"
    },
    "language_info": {
      "name": "python"
    }
  },
  "cells": [
    {
      "cell_type": "markdown",
      "metadata": {
        "id": "view-in-github",
        "colab_type": "text"
      },
      "source": [
        "<a href=\"https://colab.research.google.com/github/Ripunjaykumar/Human_Activity_Recognitation/blob/main/Activity_Recognitation.ipynb\" target=\"_parent\"><img src=\"https://colab.research.google.com/assets/colab-badge.svg\" alt=\"Open In Colab\"/></a>"
      ]
    },
    {
      "cell_type": "markdown",
      "metadata": {
        "id": "PWWLtENpYf-A"
      },
      "source": [
        "#Mount Drive"
      ]
    },
    {
      "cell_type": "code",
      "metadata": {
        "colab": {
          "base_uri": "https://localhost:8080/"
        },
        "id": "KCBuMtFY9pxL",
        "outputId": "45a8938b-a37f-4fef-a315-f5dc384db430"
      },
      "source": [
        "from google.colab import drive\n",
        "drive.mount('/content/gdrive')"
      ],
      "execution_count": 197,
      "outputs": [
        {
          "output_type": "stream",
          "text": [
            "Drive already mounted at /content/gdrive; to attempt to forcibly remount, call drive.mount(\"/content/gdrive\", force_remount=True).\n"
          ],
          "name": "stdout"
        }
      ]
    },
    {
      "cell_type": "markdown",
      "metadata": {
        "id": "QhAj2eG4Ylh6"
      },
      "source": [
        "#Library Import"
      ]
    },
    {
      "cell_type": "code",
      "metadata": {
        "id": "J2qSH_ey-BQ_"
      },
      "source": [
        "import matplotlib.pyplot as plt\n",
        "import pandas as pd\n",
        "import numpy as np\n",
        "from sklearn.model_selection import train_test_split\n",
        "from sklearn.metrics import accuracy_score, confusion_matrix, plot_confusion_matrix,classification_report\n",
        "from scipy import stats\n",
        "from sklearn.svm import LinearSVC"
      ],
      "execution_count": 251,
      "outputs": []
    },
    {
      "cell_type": "markdown",
      "metadata": {
        "id": "wPIU3shqYrEm"
      },
      "source": [
        "#Reading Data"
      ]
    },
    {
      "cell_type": "code",
      "metadata": {
        "colab": {
          "base_uri": "https://localhost:8080/",
          "height": 204
        },
        "id": "LrQT_FpPP1TL",
        "outputId": "33dd16bc-3337-4709-9838-747a8855af3b"
      },
      "source": [
        "sitting = pd.read_csv('/content/gdrive/MyDrive/Activity_Recognition/sitting.csv')\n",
        "sitting.head()"
      ],
      "execution_count": 199,
      "outputs": [
        {
          "output_type": "execute_result",
          "data": {
            "text/html": [
              "<div>\n",
              "<style scoped>\n",
              "    .dataframe tbody tr th:only-of-type {\n",
              "        vertical-align: middle;\n",
              "    }\n",
              "\n",
              "    .dataframe tbody tr th {\n",
              "        vertical-align: top;\n",
              "    }\n",
              "\n",
              "    .dataframe thead th {\n",
              "        text-align: right;\n",
              "    }\n",
              "</style>\n",
              "<table border=\"1\" class=\"dataframe\">\n",
              "  <thead>\n",
              "    <tr style=\"text-align: right;\">\n",
              "      <th></th>\n",
              "      <th>x</th>\n",
              "      <th>y</th>\n",
              "      <th>z</th>\n",
              "      <th>class</th>\n",
              "    </tr>\n",
              "  </thead>\n",
              "  <tbody>\n",
              "    <tr>\n",
              "      <th>0</th>\n",
              "      <td>0.008</td>\n",
              "      <td>-1.032</td>\n",
              "      <td>-0.324</td>\n",
              "      <td>sitting</td>\n",
              "    </tr>\n",
              "    <tr>\n",
              "      <th>1</th>\n",
              "      <td>0.004</td>\n",
              "      <td>-1.020</td>\n",
              "      <td>-0.336</td>\n",
              "      <td>sitting</td>\n",
              "    </tr>\n",
              "    <tr>\n",
              "      <th>2</th>\n",
              "      <td>0.012</td>\n",
              "      <td>-1.028</td>\n",
              "      <td>-0.316</td>\n",
              "      <td>sitting</td>\n",
              "    </tr>\n",
              "    <tr>\n",
              "      <th>3</th>\n",
              "      <td>-0.004</td>\n",
              "      <td>-1.028</td>\n",
              "      <td>-0.332</td>\n",
              "      <td>sitting</td>\n",
              "    </tr>\n",
              "    <tr>\n",
              "      <th>4</th>\n",
              "      <td>0.008</td>\n",
              "      <td>-1.036</td>\n",
              "      <td>-0.328</td>\n",
              "      <td>sitting</td>\n",
              "    </tr>\n",
              "  </tbody>\n",
              "</table>\n",
              "</div>"
            ],
            "text/plain": [
              "       x      y      z    class\n",
              "0  0.008 -1.032 -0.324  sitting\n",
              "1  0.004 -1.020 -0.336  sitting\n",
              "2  0.012 -1.028 -0.316  sitting\n",
              "3 -0.004 -1.028 -0.332  sitting\n",
              "4  0.008 -1.036 -0.328  sitting"
            ]
          },
          "metadata": {
            "tags": []
          },
          "execution_count": 199
        }
      ]
    },
    {
      "cell_type": "code",
      "metadata": {
        "colab": {
          "base_uri": "https://localhost:8080/"
        },
        "id": "TO-CaBbwUBh-",
        "outputId": "4c9c714b-ff07-4c1d-c217-d24e497782e5"
      },
      "source": [
        "sitting.shape"
      ],
      "execution_count": 200,
      "outputs": [
        {
          "output_type": "execute_result",
          "data": {
            "text/plain": [
              "(1795, 4)"
            ]
          },
          "metadata": {
            "tags": []
          },
          "execution_count": 200
        }
      ]
    },
    {
      "cell_type": "code",
      "metadata": {
        "id": "Jym3ITtOUXNc",
        "colab": {
          "base_uri": "https://localhost:8080/"
        },
        "outputId": "99610bb9-a56f-4c5c-cbea-b96a7572f7b2"
      },
      "source": [
        "sitting.columns"
      ],
      "execution_count": 201,
      "outputs": [
        {
          "output_type": "execute_result",
          "data": {
            "text/plain": [
              "Index(['x', 'y', 'z', 'class'], dtype='object')"
            ]
          },
          "metadata": {
            "tags": []
          },
          "execution_count": 201
        }
      ]
    },
    {
      "cell_type": "code",
      "metadata": {
        "id": "CqFXxHGuu_M6"
      },
      "source": [
        "x_sitting = np.array(sitting['x'])"
      ],
      "execution_count": 202,
      "outputs": []
    },
    {
      "cell_type": "code",
      "metadata": {
        "colab": {
          "base_uri": "https://localhost:8080/"
        },
        "id": "PZy7uFhIvFHX",
        "outputId": "67b016f2-17bd-43b8-9e7f-ddb00da14f3f"
      },
      "source": [
        "x_sitting"
      ],
      "execution_count": 203,
      "outputs": [
        {
          "output_type": "execute_result",
          "data": {
            "text/plain": [
              "array([ 0.008,  0.004,  0.012, ..., -0.004, -0.34 ,  0.2  ])"
            ]
          },
          "metadata": {
            "tags": []
          },
          "execution_count": 203
        }
      ]
    },
    {
      "cell_type": "code",
      "metadata": {
        "id": "9OWiwc2mvRmo"
      },
      "source": [
        "y_sitting = np.array(sitting['y'])\n",
        "z_sitting = np.array(sitting['z'])"
      ],
      "execution_count": 204,
      "outputs": []
    },
    {
      "cell_type": "code",
      "metadata": {
        "colab": {
          "base_uri": "https://localhost:8080/",
          "height": 621
        },
        "id": "HZouazB8_1Oc",
        "outputId": "76b29c92-ebc2-4c3b-ed5f-2fccc4adbf1f"
      },
      "source": [
        "plt.figure(figsize=(10, 10))\n",
        "\n",
        "plt.subplot(3, 1, 1)\n",
        "plt.plot(x_sitting, label='x_sitting')\n",
        "plt.legend(loc='upper right')\n",
        "plt.title('Sitting_Data')\n",
        "\n",
        "plt.subplot(3, 1, 2)\n",
        "plt.plot(y_sitting, label='y_sitting')\n",
        "plt.legend(loc='upper right')\n",
        "\n",
        "plt.subplot(3, 1, 3)\n",
        "plt.plot(z_sitting, label='z_sitting')\n",
        "plt.legend(loc='upper right')\n",
        "\n",
        "\n",
        "plt.xlabel('time')\n",
        "plt.show()"
      ],
      "execution_count": 252,
      "outputs": [
        {
          "output_type": "display_data",
          "data": {
            "image/png": "[encoded data removed]",
            "text/plain": [
              "<Figure size 720x720 with 3 Axes>"
            ]
          },
          "metadata": {
            "tags": [],
            "needs_background": "light"
          }
        }
      ]
    },
    {
      "cell_type": "code",
      "metadata": {
        "colab": {
          "base_uri": "https://localhost:8080/",
          "height": 204
        },
        "id": "aQjjxLs7T6Bf",
        "outputId": "7d148b5a-0730-472b-9ff7-34fe70a888a1"
      },
      "source": [
        "stairs = pd.read_csv('/content/gdrive/MyDrive/Activity_Recognition/stairs.csv')\n",
        "stairs.head()"
      ],
      "execution_count": 206,
      "outputs": [
        {
          "output_type": "execute_result",
          "data": {
            "text/html": [
              "<div>\n",
              "<style scoped>\n",
              "    .dataframe tbody tr th:only-of-type {\n",
              "        vertical-align: middle;\n",
              "    }\n",
              "\n",
              "    .dataframe tbody tr th {\n",
              "        vertical-align: top;\n",
              "    }\n",
              "\n",
              "    .dataframe thead th {\n",
              "        text-align: right;\n",
              "    }\n",
              "</style>\n",
              "<table border=\"1\" class=\"dataframe\">\n",
              "  <thead>\n",
              "    <tr style=\"text-align: right;\">\n",
              "      <th></th>\n",
              "      <th>x</th>\n",
              "      <th>y</th>\n",
              "      <th>z</th>\n",
              "      <th>class</th>\n",
              "    </tr>\n",
              "  </thead>\n",
              "  <tbody>\n",
              "    <tr>\n",
              "      <th>0</th>\n",
              "      <td>0.000</td>\n",
              "      <td>0.000</td>\n",
              "      <td>0.000</td>\n",
              "      <td>stairs</td>\n",
              "    </tr>\n",
              "    <tr>\n",
              "      <th>1</th>\n",
              "      <td>0.096</td>\n",
              "      <td>-1.224</td>\n",
              "      <td>-0.052</td>\n",
              "      <td>stairs</td>\n",
              "    </tr>\n",
              "    <tr>\n",
              "      <th>2</th>\n",
              "      <td>-0.800</td>\n",
              "      <td>-0.356</td>\n",
              "      <td>0.132</td>\n",
              "      <td>stairs</td>\n",
              "    </tr>\n",
              "    <tr>\n",
              "      <th>3</th>\n",
              "      <td>0.264</td>\n",
              "      <td>-1.364</td>\n",
              "      <td>-0.152</td>\n",
              "      <td>stairs</td>\n",
              "    </tr>\n",
              "    <tr>\n",
              "      <th>4</th>\n",
              "      <td>-0.044</td>\n",
              "      <td>-1.764</td>\n",
              "      <td>0.232</td>\n",
              "      <td>stairs</td>\n",
              "    </tr>\n",
              "  </tbody>\n",
              "</table>\n",
              "</div>"
            ],
            "text/plain": [
              "       x      y      z    class\n",
              "0  0.000  0.000  0.000  stairs \n",
              "1  0.096 -1.224 -0.052  stairs \n",
              "2 -0.800 -0.356  0.132  stairs \n",
              "3  0.264 -1.364 -0.152  stairs \n",
              "4 -0.044 -1.764  0.232  stairs "
            ]
          },
          "metadata": {
            "tags": []
          },
          "execution_count": 206
        }
      ]
    },
    {
      "cell_type": "code",
      "metadata": {
        "colab": {
          "base_uri": "https://localhost:8080/"
        },
        "id": "PcCC5ZYtT6E7",
        "outputId": "5bc4c4f3-884e-4497-f77b-4a2f7d4a37eb"
      },
      "source": [
        "stairs.shape"
      ],
      "execution_count": 207,
      "outputs": [
        {
          "output_type": "execute_result",
          "data": {
            "text/plain": [
              "(1599, 4)"
            ]
          },
          "metadata": {
            "tags": []
          },
          "execution_count": 207
        }
      ]
    },
    {
      "cell_type": "code",
      "metadata": {
        "id": "W85KJ8Vyy5ZH"
      },
      "source": [
        "x_stairs = np.array(stairs['x'])\n",
        "y_stairs = np.array(stairs['y'])\n",
        "z_stairs = np.array(stairs['z'])"
      ],
      "execution_count": 208,
      "outputs": []
    },
    {
      "cell_type": "code",
      "metadata": {
        "colab": {
          "base_uri": "https://localhost:8080/",
          "height": 621
        },
        "id": "vdiq5JnfCIvM",
        "outputId": "663bfac6-aac8-4767-8db5-28f94adfbb76"
      },
      "source": [
        "plt.figure(figsize=(10, 10))\n",
        "\n",
        "plt.subplot(3, 1, 1)\n",
        "plt.plot(x_stairs, label='x_stairs')\n",
        "plt.legend(loc='upper right')\n",
        "plt.title('Stairs_Data')\n",
        "\n",
        "plt.subplot(3, 1, 2)\n",
        "plt.plot(y_stairs, label='y_stairs')\n",
        "plt.legend(loc='upper right')\n",
        "\n",
        "plt.subplot(3, 1, 3)\n",
        "plt.plot(z_stairs, label='z_stairs')\n",
        "plt.legend(loc='upper right')\n",
        "\n",
        "\n",
        "plt.xlabel('time')\n",
        "plt.show()"
      ],
      "execution_count": 209,
      "outputs": [
        {
          "output_type": "display_data",
          "data": {
            "image/png": "[encoded data removed]",
            "text/plain": [
              "<Figure size 720x720 with 3 Axes>"
            ]
          },
          "metadata": {
            "tags": [],
            "needs_background": "light"
          }
        }
      ]
    },
    {
      "cell_type": "code",
      "metadata": {
        "colab": {
          "base_uri": "https://localhost:8080/",
          "height": 204
        },
        "id": "SrM-JX1uUisq",
        "outputId": "2bdd5e3b-ac9a-43a6-d797-b03a6afb27f4"
      },
      "source": [
        "walking = pd.read_csv('/content/gdrive/MyDrive/Activity_Recognition/walking.csv')\n",
        "walking.head()"
      ],
      "execution_count": 210,
      "outputs": [
        {
          "output_type": "execute_result",
          "data": {
            "text/html": [
              "<div>\n",
              "<style scoped>\n",
              "    .dataframe tbody tr th:only-of-type {\n",
              "        vertical-align: middle;\n",
              "    }\n",
              "\n",
              "    .dataframe tbody tr th {\n",
              "        vertical-align: top;\n",
              "    }\n",
              "\n",
              "    .dataframe thead th {\n",
              "        text-align: right;\n",
              "    }\n",
              "</style>\n",
              "<table border=\"1\" class=\"dataframe\">\n",
              "  <thead>\n",
              "    <tr style=\"text-align: right;\">\n",
              "      <th></th>\n",
              "      <th>x</th>\n",
              "      <th>y</th>\n",
              "      <th>z</th>\n",
              "      <th>class</th>\n",
              "    </tr>\n",
              "  </thead>\n",
              "  <tbody>\n",
              "    <tr>\n",
              "      <th>0</th>\n",
              "      <td>-1.036</td>\n",
              "      <td>-1.176</td>\n",
              "      <td>0.464</td>\n",
              "      <td>walking</td>\n",
              "    </tr>\n",
              "    <tr>\n",
              "      <th>1</th>\n",
              "      <td>-0.040</td>\n",
              "      <td>-0.728</td>\n",
              "      <td>-0.104</td>\n",
              "      <td>walking</td>\n",
              "    </tr>\n",
              "    <tr>\n",
              "      <th>2</th>\n",
              "      <td>-0.856</td>\n",
              "      <td>-0.916</td>\n",
              "      <td>0.172</td>\n",
              "      <td>walking</td>\n",
              "    </tr>\n",
              "    <tr>\n",
              "      <th>3</th>\n",
              "      <td>0.188</td>\n",
              "      <td>-1.012</td>\n",
              "      <td>-0.064</td>\n",
              "      <td>walking</td>\n",
              "    </tr>\n",
              "    <tr>\n",
              "      <th>4</th>\n",
              "      <td>-0.028</td>\n",
              "      <td>-1.588</td>\n",
              "      <td>0.112</td>\n",
              "      <td>walking</td>\n",
              "    </tr>\n",
              "  </tbody>\n",
              "</table>\n",
              "</div>"
            ],
            "text/plain": [
              "       x      y      z    class\n",
              "0 -1.036 -1.176  0.464  walking\n",
              "1 -0.040 -0.728 -0.104  walking\n",
              "2 -0.856 -0.916  0.172  walking\n",
              "3  0.188 -1.012 -0.064  walking\n",
              "4 -0.028 -1.588  0.112  walking"
            ]
          },
          "metadata": {
            "tags": []
          },
          "execution_count": 210
        }
      ]
    },
    {
      "cell_type": "code",
      "metadata": {
        "colab": {
          "base_uri": "https://localhost:8080/"
        },
        "id": "DoHBa0ViWfcj",
        "outputId": "4292dee4-2c47-4df9-9e3b-4757ace5fffb"
      },
      "source": [
        "walking.shape"
      ],
      "execution_count": 211,
      "outputs": [
        {
          "output_type": "execute_result",
          "data": {
            "text/plain": [
              "(1885, 4)"
            ]
          },
          "metadata": {
            "tags": []
          },
          "execution_count": 211
        }
      ]
    },
    {
      "cell_type": "code",
      "metadata": {
        "id": "JdL3IfORUiwS"
      },
      "source": [
        "x_walking = np.array(walking['x'])\n",
        "y_walking = np.array(walking['y'])\n",
        "z_walking = np.array(walking['z'])"
      ],
      "execution_count": 212,
      "outputs": []
    },
    {
      "cell_type": "code",
      "metadata": {
        "colab": {
          "base_uri": "https://localhost:8080/",
          "height": 621
        },
        "id": "4RhMp-qgEWpP",
        "outputId": "8b22b40f-6562-46e5-8117-5eb6e3958cea"
      },
      "source": [
        "plt.figure(figsize=(10, 10))\n",
        "\n",
        "plt.subplot(3, 1, 1)\n",
        "plt.plot(x_walking, label='x_walking')\n",
        "plt.legend(loc='upper right')\n",
        "plt.title('Walking_Data')\n",
        "\n",
        "plt.subplot(3, 1, 2)\n",
        "plt.plot(y_walking, label='y_walking')\n",
        "plt.legend(loc='upper right')\n",
        "\n",
        "plt.subplot(3, 1, 3)\n",
        "plt.plot(z_walking, label='z_walking')\n",
        "plt.legend(loc='upper right')\n",
        "\n",
        "\n",
        "plt.xlabel('time')\n",
        "plt.show()"
      ],
      "execution_count": 213,
      "outputs": [
        {
          "output_type": "display_data",
          "data": {
            "image/png": "[encoded data removed]",
            "text/plain": [
              "<Figure size 720x720 with 3 Axes>"
            ]
          },
          "metadata": {
            "tags": [],
            "needs_background": "light"
          }
        }
      ]
    },
    {
      "cell_type": "markdown",
      "metadata": {
        "id": "-iSLAJ46YzZA"
      },
      "source": [
        "#Extracting Features"
      ]
    },
    {
      "cell_type": "code",
      "metadata": {
        "id": "pObQ_3Fhy5e4"
      },
      "source": [
        "def feature_extract(Window_x, Window_y, Window_z):\n",
        "\n",
        "  mean_x = np.mean(Window_x)\n",
        "  mean_y = np.mean(Window_y)\n",
        "  mean_z = np.mean(Window_z)\n",
        "  Mean = (mean_x + mean_y + mean_z)/3  \n",
        "\n",
        "  std_x = np.std(Window_x)\n",
        "  std_y = np.std(Window_y)\n",
        "  std_z = np.std(Window_z)\n",
        "  STD = (std_x+std_y+std_z)/3\n",
        "\n",
        "  cov_x = mean_x/std_x\n",
        "  cov_y = mean_y/std_y\n",
        "  cov_z = mean_z/std_z\n",
        "  COV = (cov_x + cov_y + cov_z)/3\n",
        "  \n",
        "  skew_x = stats.skew(Window_x)\n",
        "  skew_y = stats.skew(Window_y)\n",
        "  skew_z = stats.skew(Window_z)\n",
        "  SKEW = (skew_x + skew_y + skew_z)/3\n",
        "\n",
        "  kurtosis_x = stats.kurtosis(Window_x)\n",
        "  kurtosis_y = stats.kurtosis(Window_y)\n",
        "  kurtosis_z = stats.kurtosis(Window_z)\n",
        "  KURTOSIS = (kurtosis_x+kurtosis_y+kurtosis_z)/3 \n",
        "\n",
        "  magnitude = (Window_x**2+Window_y**2+Window_z**2)**0.5\n",
        "  AVERAGE = np.mean(magnitude)\n",
        "\n",
        "\n",
        "  zcr_x = sum(np.diff(Window_x>0))/len(Window_x)\n",
        "  zcr_y = sum(np.diff(Window_y>0))/len(Window_y)\n",
        "  zcr_z = sum(np.diff(Window_z>0))/len(Window_z)\n",
        "  ZCR   =   (zcr_x+zcr_y+zcr_z)/3\n",
        "  \n",
        "\n",
        "  arr = np.array([Mean, STD, COV, SKEW, KURTOSIS, AVERAGE, ZCR])\n",
        "\n",
        "  return arr\n"
      ],
      "execution_count": 214,
      "outputs": []
    },
    {
      "cell_type": "code",
      "metadata": {
        "id": "hkTb1SHE1kk8"
      },
      "source": [
        "f_sitting = np.zeros((158,7))\n",
        "f_stairs = np.zeros((158,7))\n",
        "f_walking = np.zeros((158,7))"
      ],
      "execution_count": 215,
      "outputs": []
    },
    {
      "cell_type": "code",
      "metadata": {
        "id": "LaKw2RQSx6lw"
      },
      "source": [
        "for i in range(1,159):\n",
        "  Window1_x = x_sitting[(i*10)-9 : (i*10)+1]\n",
        "  Window1_y = y_sitting[(i*10)-9 : (i*10)+1]\n",
        "  Window1_z = z_sitting[(i*10)-9 : (i*10)+1]\n",
        "  x1 = feature_extract(Window1_x,Window1_y,Window1_z)\n",
        "  f_sitting[i-1] = x1\n",
        "\n",
        "  Window2_x = x_stairs[(i*10)-9 : (i*10)+1]\n",
        "  Window2_y = y_stairs[(i*10)-9 : (i*10)+1]\n",
        "  Window2_z = z_stairs[(i*10)-9 : (i*10)+1]\n",
        "  x2 = feature_extract(Window2_x,Window2_y,Window2_z)\n",
        "  f_stairs[i-1] = x2\n",
        "\n",
        "  Window3_x = x_walking[(i*10)-9 : (i*10)+1]\n",
        "  Window3_y = y_walking[(i*10)-9 : (i*10)+1]\n",
        "  Window3_z = z_walking[(i*10)-9 : (i*10)+1]\n",
        "  x3 = feature_extract(Window3_x,Window3_y,Window3_z)\n",
        "  f_walking[i-1] = x3\n"
      ],
      "execution_count": 216,
      "outputs": []
    },
    {
      "cell_type": "code",
      "metadata": {
        "colab": {
          "base_uri": "https://localhost:8080/"
        },
        "id": "Y0j99JNTx6rg",
        "outputId": "b27a08f1-607a-4fe4-a95b-ed1685c877f0"
      },
      "source": [
        "f_walking[157]"
      ],
      "execution_count": 217,
      "outputs": [
        {
          "output_type": "execute_result",
          "data": {
            "text/plain": [
              "array([-4.50800000e-01,  1.73035296e-01, -3.21206424e+00,  2.74937190e-01,\n",
              "       -1.22472747e-03,  1.29012327e+00,  2.33333333e-01])"
            ]
          },
          "metadata": {
            "tags": []
          },
          "execution_count": 217
        }
      ]
    },
    {
      "cell_type": "code",
      "metadata": {
        "id": "4wFrcWHRqcmQ"
      },
      "source": [
        "df_sitting = pd.DataFrame(f_sitting, columns=['mean','std','cov','skew','kurtosis','average','zcr'])"
      ],
      "execution_count": 218,
      "outputs": []
    },
    {
      "cell_type": "code",
      "metadata": {
        "colab": {
          "base_uri": "https://localhost:8080/",
          "height": 204
        },
        "id": "3w1LWAqa5F3J",
        "outputId": "e14dab8f-c1a9-4111-ec47-977063fb0eab"
      },
      "source": [
        "df_sitting.head()"
      ],
      "execution_count": 219,
      "outputs": [
        {
          "output_type": "execute_result",
          "data": {
            "text/html": [
              "<div>\n",
              "<style scoped>\n",
              "    .dataframe tbody tr th:only-of-type {\n",
              "        vertical-align: middle;\n",
              "    }\n",
              "\n",
              "    .dataframe tbody tr th {\n",
              "        vertical-align: top;\n",
              "    }\n",
              "\n",
              "    .dataframe thead th {\n",
              "        text-align: right;\n",
              "    }\n",
              "</style>\n",
              "<table border=\"1\" class=\"dataframe\">\n",
              "  <thead>\n",
              "    <tr style=\"text-align: right;\">\n",
              "      <th></th>\n",
              "      <th>mean</th>\n",
              "      <th>std</th>\n",
              "      <th>cov</th>\n",
              "      <th>skew</th>\n",
              "      <th>kurtosis</th>\n",
              "      <th>average</th>\n",
              "      <th>zcr</th>\n",
              "    </tr>\n",
              "  </thead>\n",
              "  <tbody>\n",
              "    <tr>\n",
              "      <th>0</th>\n",
              "      <td>-0.446000</td>\n",
              "      <td>0.011729</td>\n",
              "      <td>-49.317182</td>\n",
              "      <td>6.824522e-03</td>\n",
              "      <td>-1.007275</td>\n",
              "      <td>1.077264</td>\n",
              "      <td>0.2</td>\n",
              "    </tr>\n",
              "    <tr>\n",
              "      <th>1</th>\n",
              "      <td>-0.450000</td>\n",
              "      <td>0.009757</td>\n",
              "      <td>-59.953988</td>\n",
              "      <td>-5.503372e-01</td>\n",
              "      <td>-0.548248</td>\n",
              "      <td>1.073339</td>\n",
              "      <td>0.1</td>\n",
              "    </tr>\n",
              "    <tr>\n",
              "      <th>2</th>\n",
              "      <td>-0.461467</td>\n",
              "      <td>0.005380</td>\n",
              "      <td>-110.133924</td>\n",
              "      <td>8.554663e-02</td>\n",
              "      <td>-0.130164</td>\n",
              "      <td>1.076926</td>\n",
              "      <td>0.0</td>\n",
              "    </tr>\n",
              "    <tr>\n",
              "      <th>3</th>\n",
              "      <td>-0.463333</td>\n",
              "      <td>0.006505</td>\n",
              "      <td>-81.501049</td>\n",
              "      <td>-3.846877e-01</td>\n",
              "      <td>-1.079472</td>\n",
              "      <td>1.079975</td>\n",
              "      <td>0.0</td>\n",
              "    </tr>\n",
              "    <tr>\n",
              "      <th>4</th>\n",
              "      <td>-0.463333</td>\n",
              "      <td>0.004918</td>\n",
              "      <td>-130.344004</td>\n",
              "      <td>2.818428e-16</td>\n",
              "      <td>-1.228395</td>\n",
              "      <td>1.079833</td>\n",
              "      <td>0.0</td>\n",
              "    </tr>\n",
              "  </tbody>\n",
              "</table>\n",
              "</div>"
            ],
            "text/plain": [
              "       mean       std         cov          skew  kurtosis   average  zcr\n",
              "0 -0.446000  0.011729  -49.317182  6.824522e-03 -1.007275  1.077264  0.2\n",
              "1 -0.450000  0.009757  -59.953988 -5.503372e-01 -0.548248  1.073339  0.1\n",
              "2 -0.461467  0.005380 -110.133924  8.554663e-02 -0.130164  1.076926  0.0\n",
              "3 -0.463333  0.006505  -81.501049 -3.846877e-01 -1.079472  1.079975  0.0\n",
              "4 -0.463333  0.004918 -130.344004  2.818428e-16 -1.228395  1.079833  0.0"
            ]
          },
          "metadata": {
            "tags": []
          },
          "execution_count": 219
        }
      ]
    },
    {
      "cell_type": "code",
      "metadata": {
        "colab": {
          "base_uri": "https://localhost:8080/"
        },
        "id": "ck4_YM0u5fsv",
        "outputId": "c21a826c-b5b8-49c7-8eb5-4d1a19c846bf"
      },
      "source": [
        "df_sitting.shape"
      ],
      "execution_count": 220,
      "outputs": [
        {
          "output_type": "execute_result",
          "data": {
            "text/plain": [
              "(158, 7)"
            ]
          },
          "metadata": {
            "tags": []
          },
          "execution_count": 220
        }
      ]
    },
    {
      "cell_type": "code",
      "metadata": {
        "colab": {
          "base_uri": "https://localhost:8080/",
          "height": 204
        },
        "id": "X74OPpRs5ltD",
        "outputId": "769f12ca-660a-4058-ba24-7095469871fe"
      },
      "source": [
        "df_sitting.tail()"
      ],
      "execution_count": 221,
      "outputs": [
        {
          "output_type": "execute_result",
          "data": {
            "text/html": [
              "<div>\n",
              "<style scoped>\n",
              "    .dataframe tbody tr th:only-of-type {\n",
              "        vertical-align: middle;\n",
              "    }\n",
              "\n",
              "    .dataframe tbody tr th {\n",
              "        vertical-align: top;\n",
              "    }\n",
              "\n",
              "    .dataframe thead th {\n",
              "        text-align: right;\n",
              "    }\n",
              "</style>\n",
              "<table border=\"1\" class=\"dataframe\">\n",
              "  <thead>\n",
              "    <tr style=\"text-align: right;\">\n",
              "      <th></th>\n",
              "      <th>mean</th>\n",
              "      <th>std</th>\n",
              "      <th>cov</th>\n",
              "      <th>skew</th>\n",
              "      <th>kurtosis</th>\n",
              "      <th>average</th>\n",
              "      <th>zcr</th>\n",
              "    </tr>\n",
              "  </thead>\n",
              "  <tbody>\n",
              "    <tr>\n",
              "      <th>153</th>\n",
              "      <td>-0.452400</td>\n",
              "      <td>0.004644</td>\n",
              "      <td>-87.291622</td>\n",
              "      <td>0.015389</td>\n",
              "      <td>-0.887712</td>\n",
              "      <td>1.126199</td>\n",
              "      <td>0.133333</td>\n",
              "    </tr>\n",
              "    <tr>\n",
              "      <th>154</th>\n",
              "      <td>-0.452933</td>\n",
              "      <td>0.005286</td>\n",
              "      <td>-67.846361</td>\n",
              "      <td>-0.485233</td>\n",
              "      <td>-0.877586</td>\n",
              "      <td>1.126580</td>\n",
              "      <td>0.033333</td>\n",
              "    </tr>\n",
              "    <tr>\n",
              "      <th>155</th>\n",
              "      <td>-0.450933</td>\n",
              "      <td>0.004738</td>\n",
              "      <td>-146.825830</td>\n",
              "      <td>-0.122856</td>\n",
              "      <td>-0.048350</td>\n",
              "      <td>1.125257</td>\n",
              "      <td>0.133333</td>\n",
              "    </tr>\n",
              "    <tr>\n",
              "      <th>156</th>\n",
              "      <td>-0.450933</td>\n",
              "      <td>0.006025</td>\n",
              "      <td>-61.187254</td>\n",
              "      <td>-0.265653</td>\n",
              "      <td>-0.361681</td>\n",
              "      <td>1.127402</td>\n",
              "      <td>0.033333</td>\n",
              "    </tr>\n",
              "    <tr>\n",
              "      <th>157</th>\n",
              "      <td>-0.448133</td>\n",
              "      <td>0.004606</td>\n",
              "      <td>-106.960798</td>\n",
              "      <td>0.578815</td>\n",
              "      <td>-0.481075</td>\n",
              "      <td>1.119631</td>\n",
              "      <td>0.166667</td>\n",
              "    </tr>\n",
              "  </tbody>\n",
              "</table>\n",
              "</div>"
            ],
            "text/plain": [
              "         mean       std         cov      skew  kurtosis   average       zcr\n",
              "153 -0.452400  0.004644  -87.291622  0.015389 -0.887712  1.126199  0.133333\n",
              "154 -0.452933  0.005286  -67.846361 -0.485233 -0.877586  1.126580  0.033333\n",
              "155 -0.450933  0.004738 -146.825830 -0.122856 -0.048350  1.125257  0.133333\n",
              "156 -0.450933  0.006025  -61.187254 -0.265653 -0.361681  1.127402  0.033333\n",
              "157 -0.448133  0.004606 -106.960798  0.578815 -0.481075  1.119631  0.166667"
            ]
          },
          "metadata": {
            "tags": []
          },
          "execution_count": 221
        }
      ]
    },
    {
      "cell_type": "code",
      "metadata": {
        "id": "eT6XcBQG7XyP"
      },
      "source": [
        "df_sitting['activity'] = 'sitting'"
      ],
      "execution_count": 222,
      "outputs": []
    },
    {
      "cell_type": "code",
      "metadata": {
        "colab": {
          "base_uri": "https://localhost:8080/",
          "height": 204
        },
        "id": "Ldhs5Mvw9YPr",
        "outputId": "585da010-1e8f-451c-f903-20ab9d27f669"
      },
      "source": [
        "df_sitting.head()"
      ],
      "execution_count": 223,
      "outputs": [
        {
          "output_type": "execute_result",
          "data": {
            "text/html": [
              "<div>\n",
              "<style scoped>\n",
              "    .dataframe tbody tr th:only-of-type {\n",
              "        vertical-align: middle;\n",
              "    }\n",
              "\n",
              "    .dataframe tbody tr th {\n",
              "        vertical-align: top;\n",
              "    }\n",
              "\n",
              "    .dataframe thead th {\n",
              "        text-align: right;\n",
              "    }\n",
              "</style>\n",
              "<table border=\"1\" class=\"dataframe\">\n",
              "  <thead>\n",
              "    <tr style=\"text-align: right;\">\n",
              "      <th></th>\n",
              "      <th>mean</th>\n",
              "      <th>std</th>\n",
              "      <th>cov</th>\n",
              "      <th>skew</th>\n",
              "      <th>kurtosis</th>\n",
              "      <th>average</th>\n",
              "      <th>zcr</th>\n",
              "      <th>activity</th>\n",
              "    </tr>\n",
              "  </thead>\n",
              "  <tbody>\n",
              "    <tr>\n",
              "      <th>0</th>\n",
              "      <td>-0.446000</td>\n",
              "      <td>0.011729</td>\n",
              "      <td>-49.317182</td>\n",
              "      <td>6.824522e-03</td>\n",
              "      <td>-1.007275</td>\n",
              "      <td>1.077264</td>\n",
              "      <td>0.2</td>\n",
              "      <td>sitting</td>\n",
              "    </tr>\n",
              "    <tr>\n",
              "      <th>1</th>\n",
              "      <td>-0.450000</td>\n",
              "      <td>0.009757</td>\n",
              "      <td>-59.953988</td>\n",
              "      <td>-5.503372e-01</td>\n",
              "      <td>-0.548248</td>\n",
              "      <td>1.073339</td>\n",
              "      <td>0.1</td>\n",
              "      <td>sitting</td>\n",
              "    </tr>\n",
              "    <tr>\n",
              "      <th>2</th>\n",
              "      <td>-0.461467</td>\n",
              "      <td>0.005380</td>\n",
              "      <td>-110.133924</td>\n",
              "      <td>8.554663e-02</td>\n",
              "      <td>-0.130164</td>\n",
              "      <td>1.076926</td>\n",
              "      <td>0.0</td>\n",
              "      <td>sitting</td>\n",
              "    </tr>\n",
              "    <tr>\n",
              "      <th>3</th>\n",
              "      <td>-0.463333</td>\n",
              "      <td>0.006505</td>\n",
              "      <td>-81.501049</td>\n",
              "      <td>-3.846877e-01</td>\n",
              "      <td>-1.079472</td>\n",
              "      <td>1.079975</td>\n",
              "      <td>0.0</td>\n",
              "      <td>sitting</td>\n",
              "    </tr>\n",
              "    <tr>\n",
              "      <th>4</th>\n",
              "      <td>-0.463333</td>\n",
              "      <td>0.004918</td>\n",
              "      <td>-130.344004</td>\n",
              "      <td>2.818428e-16</td>\n",
              "      <td>-1.228395</td>\n",
              "      <td>1.079833</td>\n",
              "      <td>0.0</td>\n",
              "      <td>sitting</td>\n",
              "    </tr>\n",
              "  </tbody>\n",
              "</table>\n",
              "</div>"
            ],
            "text/plain": [
              "       mean       std         cov  ...   average  zcr  activity\n",
              "0 -0.446000  0.011729  -49.317182  ...  1.077264  0.2   sitting\n",
              "1 -0.450000  0.009757  -59.953988  ...  1.073339  0.1   sitting\n",
              "2 -0.461467  0.005380 -110.133924  ...  1.076926  0.0   sitting\n",
              "3 -0.463333  0.006505  -81.501049  ...  1.079975  0.0   sitting\n",
              "4 -0.463333  0.004918 -130.344004  ...  1.079833  0.0   sitting\n",
              "\n",
              "[5 rows x 8 columns]"
            ]
          },
          "metadata": {
            "tags": []
          },
          "execution_count": 223
        }
      ]
    },
    {
      "cell_type": "code",
      "metadata": {
        "colab": {
          "base_uri": "https://localhost:8080/",
          "height": 204
        },
        "id": "IlB89y-I9geP",
        "outputId": "daecbac8-85b4-4d79-fadf-48c16e6567a2"
      },
      "source": [
        "df_stairs = pd.DataFrame(f_stairs, columns=['mean','std','cov','skew','kurtosis','average','zcr'])\n",
        "df_stairs['activity'] = 'stairs'\n",
        "df_stairs.head()"
      ],
      "execution_count": 224,
      "outputs": [
        {
          "output_type": "execute_result",
          "data": {
            "text/html": [
              "<div>\n",
              "<style scoped>\n",
              "    .dataframe tbody tr th:only-of-type {\n",
              "        vertical-align: middle;\n",
              "    }\n",
              "\n",
              "    .dataframe tbody tr th {\n",
              "        vertical-align: top;\n",
              "    }\n",
              "\n",
              "    .dataframe thead th {\n",
              "        text-align: right;\n",
              "    }\n",
              "</style>\n",
              "<table border=\"1\" class=\"dataframe\">\n",
              "  <thead>\n",
              "    <tr style=\"text-align: right;\">\n",
              "      <th></th>\n",
              "      <th>mean</th>\n",
              "      <th>std</th>\n",
              "      <th>cov</th>\n",
              "      <th>skew</th>\n",
              "      <th>kurtosis</th>\n",
              "      <th>average</th>\n",
              "      <th>zcr</th>\n",
              "      <th>activity</th>\n",
              "    </tr>\n",
              "  </thead>\n",
              "  <tbody>\n",
              "    <tr>\n",
              "      <th>0</th>\n",
              "      <td>-0.375200</td>\n",
              "      <td>0.270099</td>\n",
              "      <td>-1.049868</td>\n",
              "      <td>-0.217047</td>\n",
              "      <td>-0.283946</td>\n",
              "      <td>1.077804</td>\n",
              "      <td>0.366667</td>\n",
              "      <td>stairs</td>\n",
              "    </tr>\n",
              "    <tr>\n",
              "      <th>1</th>\n",
              "      <td>-0.475200</td>\n",
              "      <td>0.412639</td>\n",
              "      <td>-0.866603</td>\n",
              "      <td>-0.572444</td>\n",
              "      <td>0.479907</td>\n",
              "      <td>1.342196</td>\n",
              "      <td>0.366667</td>\n",
              "      <td>stairs</td>\n",
              "    </tr>\n",
              "    <tr>\n",
              "      <th>2</th>\n",
              "      <td>-0.409333</td>\n",
              "      <td>0.283022</td>\n",
              "      <td>-1.072700</td>\n",
              "      <td>-0.093297</td>\n",
              "      <td>-0.792431</td>\n",
              "      <td>1.090467</td>\n",
              "      <td>0.233333</td>\n",
              "      <td>stairs</td>\n",
              "    </tr>\n",
              "    <tr>\n",
              "      <th>3</th>\n",
              "      <td>-0.485067</td>\n",
              "      <td>0.417896</td>\n",
              "      <td>-1.022169</td>\n",
              "      <td>-0.354271</td>\n",
              "      <td>-0.535003</td>\n",
              "      <td>1.158219</td>\n",
              "      <td>0.266667</td>\n",
              "      <td>stairs</td>\n",
              "    </tr>\n",
              "    <tr>\n",
              "      <th>4</th>\n",
              "      <td>-0.392933</td>\n",
              "      <td>0.428609</td>\n",
              "      <td>-0.507172</td>\n",
              "      <td>0.204163</td>\n",
              "      <td>-1.002313</td>\n",
              "      <td>1.205113</td>\n",
              "      <td>0.500000</td>\n",
              "      <td>stairs</td>\n",
              "    </tr>\n",
              "  </tbody>\n",
              "</table>\n",
              "</div>"
            ],
            "text/plain": [
              "       mean       std       cov  ...   average       zcr  activity\n",
              "0 -0.375200  0.270099 -1.049868  ...  1.077804  0.366667    stairs\n",
              "1 -0.475200  0.412639 -0.866603  ...  1.342196  0.366667    stairs\n",
              "2 -0.409333  0.283022 -1.072700  ...  1.090467  0.233333    stairs\n",
              "3 -0.485067  0.417896 -1.022169  ...  1.158219  0.266667    stairs\n",
              "4 -0.392933  0.428609 -0.507172  ...  1.205113  0.500000    stairs\n",
              "\n",
              "[5 rows x 8 columns]"
            ]
          },
          "metadata": {
            "tags": []
          },
          "execution_count": 224
        }
      ]
    },
    {
      "cell_type": "code",
      "metadata": {
        "colab": {
          "base_uri": "https://localhost:8080/",
          "height": 204
        },
        "id": "B4VCK_QwbT0s",
        "outputId": "10112f0c-ba34-42a1-cd0a-6d26f15fc440"
      },
      "source": [
        "df_walking = pd.DataFrame(f_walking, columns=['mean','std','cov','skew','kurtosis','average','zcr'])\n",
        "df_walking['activity'] = 'walking'\n",
        "df_walking.head()"
      ],
      "execution_count": 225,
      "outputs": [
        {
          "output_type": "execute_result",
          "data": {
            "text/html": [
              "<div>\n",
              "<style scoped>\n",
              "    .dataframe tbody tr th:only-of-type {\n",
              "        vertical-align: middle;\n",
              "    }\n",
              "\n",
              "    .dataframe tbody tr th {\n",
              "        vertical-align: top;\n",
              "    }\n",
              "\n",
              "    .dataframe thead th {\n",
              "        text-align: right;\n",
              "    }\n",
              "</style>\n",
              "<table border=\"1\" class=\"dataframe\">\n",
              "  <thead>\n",
              "    <tr style=\"text-align: right;\">\n",
              "      <th></th>\n",
              "      <th>mean</th>\n",
              "      <th>std</th>\n",
              "      <th>cov</th>\n",
              "      <th>skew</th>\n",
              "      <th>kurtosis</th>\n",
              "      <th>average</th>\n",
              "      <th>zcr</th>\n",
              "      <th>activity</th>\n",
              "    </tr>\n",
              "  </thead>\n",
              "  <tbody>\n",
              "    <tr>\n",
              "      <th>0</th>\n",
              "      <td>-0.356400</td>\n",
              "      <td>0.276195</td>\n",
              "      <td>-0.815419</td>\n",
              "      <td>-0.620156</td>\n",
              "      <td>-0.417273</td>\n",
              "      <td>1.079486</td>\n",
              "      <td>0.400000</td>\n",
              "      <td>walking</td>\n",
              "    </tr>\n",
              "    <tr>\n",
              "      <th>1</th>\n",
              "      <td>-0.272400</td>\n",
              "      <td>0.117411</td>\n",
              "      <td>-2.391807</td>\n",
              "      <td>-1.051235</td>\n",
              "      <td>0.918816</td>\n",
              "      <td>0.828295</td>\n",
              "      <td>0.466667</td>\n",
              "      <td>walking</td>\n",
              "    </tr>\n",
              "    <tr>\n",
              "      <th>2</th>\n",
              "      <td>-0.454133</td>\n",
              "      <td>0.340851</td>\n",
              "      <td>-1.487366</td>\n",
              "      <td>-1.006216</td>\n",
              "      <td>0.408531</td>\n",
              "      <td>1.536833</td>\n",
              "      <td>0.300000</td>\n",
              "      <td>walking</td>\n",
              "    </tr>\n",
              "    <tr>\n",
              "      <th>3</th>\n",
              "      <td>-0.377733</td>\n",
              "      <td>0.200453</td>\n",
              "      <td>-2.047647</td>\n",
              "      <td>-0.591645</td>\n",
              "      <td>-0.247385</td>\n",
              "      <td>1.089698</td>\n",
              "      <td>0.300000</td>\n",
              "      <td>walking</td>\n",
              "    </tr>\n",
              "    <tr>\n",
              "      <th>4</th>\n",
              "      <td>-0.392667</td>\n",
              "      <td>0.186338</td>\n",
              "      <td>-1.351000</td>\n",
              "      <td>-0.068591</td>\n",
              "      <td>-0.964024</td>\n",
              "      <td>1.276381</td>\n",
              "      <td>0.500000</td>\n",
              "      <td>walking</td>\n",
              "    </tr>\n",
              "  </tbody>\n",
              "</table>\n",
              "</div>"
            ],
            "text/plain": [
              "       mean       std       cov  ...   average       zcr  activity\n",
              "0 -0.356400  0.276195 -0.815419  ...  1.079486  0.400000   walking\n",
              "1 -0.272400  0.117411 -2.391807  ...  0.828295  0.466667   walking\n",
              "2 -0.454133  0.340851 -1.487366  ...  1.536833  0.300000   walking\n",
              "3 -0.377733  0.200453 -2.047647  ...  1.089698  0.300000   walking\n",
              "4 -0.392667  0.186338 -1.351000  ...  1.276381  0.500000   walking\n",
              "\n",
              "[5 rows x 8 columns]"
            ]
          },
          "metadata": {
            "tags": []
          },
          "execution_count": 225
        }
      ]
    },
    {
      "cell_type": "markdown",
      "metadata": {
        "id": "l7HJ1JFPZRGt"
      },
      "source": [
        "#Concat Multiple DataFrames"
      ]
    },
    {
      "cell_type": "code",
      "metadata": {
        "colab": {
          "base_uri": "https://localhost:8080/",
          "height": 204
        },
        "id": "wAiIdIambT3v",
        "outputId": "3af424bb-9aa2-4dc6-91d7-be42891e0d35"
      },
      "source": [
        "frames = [df_sitting, df_stairs, df_walking]\n",
        "df_result = pd.concat(frames , ignore_index=True)\n",
        "df_result.tail()"
      ],
      "execution_count": 250,
      "outputs": [
        {
          "output_type": "execute_result",
          "data": {
            "text/html": [
              "<div>\n",
              "<style scoped>\n",
              "    .dataframe tbody tr th:only-of-type {\n",
              "        vertical-align: middle;\n",
              "    }\n",
              "\n",
              "    .dataframe tbody tr th {\n",
              "        vertical-align: top;\n",
              "    }\n",
              "\n",
              "    .dataframe thead th {\n",
              "        text-align: right;\n",
              "    }\n",
              "</style>\n",
              "<table border=\"1\" class=\"dataframe\">\n",
              "  <thead>\n",
              "    <tr style=\"text-align: right;\">\n",
              "      <th></th>\n",
              "      <th>mean</th>\n",
              "      <th>std</th>\n",
              "      <th>cov</th>\n",
              "      <th>skew</th>\n",
              "      <th>kurtosis</th>\n",
              "      <th>average</th>\n",
              "      <th>zcr</th>\n",
              "      <th>activity</th>\n",
              "    </tr>\n",
              "  </thead>\n",
              "  <tbody>\n",
              "    <tr>\n",
              "      <th>469</th>\n",
              "      <td>-0.436667</td>\n",
              "      <td>0.252641</td>\n",
              "      <td>-1.642023</td>\n",
              "      <td>-0.199947</td>\n",
              "      <td>-1.349846</td>\n",
              "      <td>1.174267</td>\n",
              "      <td>0.266667</td>\n",
              "      <td>walking</td>\n",
              "    </tr>\n",
              "    <tr>\n",
              "      <th>470</th>\n",
              "      <td>-0.315200</td>\n",
              "      <td>0.108642</td>\n",
              "      <td>-2.827135</td>\n",
              "      <td>0.014570</td>\n",
              "      <td>-1.364997</td>\n",
              "      <td>0.754810</td>\n",
              "      <td>0.200000</td>\n",
              "      <td>walking</td>\n",
              "    </tr>\n",
              "    <tr>\n",
              "      <th>471</th>\n",
              "      <td>-0.309333</td>\n",
              "      <td>0.089371</td>\n",
              "      <td>-3.075577</td>\n",
              "      <td>0.232874</td>\n",
              "      <td>-0.864292</td>\n",
              "      <td>0.805069</td>\n",
              "      <td>0.266667</td>\n",
              "      <td>walking</td>\n",
              "    </tr>\n",
              "    <tr>\n",
              "      <th>472</th>\n",
              "      <td>-0.527867</td>\n",
              "      <td>0.141406</td>\n",
              "      <td>-2.990266</td>\n",
              "      <td>-0.341012</td>\n",
              "      <td>-0.469191</td>\n",
              "      <td>1.321232</td>\n",
              "      <td>0.166667</td>\n",
              "      <td>walking</td>\n",
              "    </tr>\n",
              "    <tr>\n",
              "      <th>473</th>\n",
              "      <td>-0.450800</td>\n",
              "      <td>0.173035</td>\n",
              "      <td>-3.212064</td>\n",
              "      <td>0.274937</td>\n",
              "      <td>-0.001225</td>\n",
              "      <td>1.290123</td>\n",
              "      <td>0.233333</td>\n",
              "      <td>walking</td>\n",
              "    </tr>\n",
              "  </tbody>\n",
              "</table>\n",
              "</div>"
            ],
            "text/plain": [
              "         mean       std       cov  ...   average       zcr  activity\n",
              "469 -0.436667  0.252641 -1.642023  ...  1.174267  0.266667   walking\n",
              "470 -0.315200  0.108642 -2.827135  ...  0.754810  0.200000   walking\n",
              "471 -0.309333  0.089371 -3.075577  ...  0.805069  0.266667   walking\n",
              "472 -0.527867  0.141406 -2.990266  ...  1.321232  0.166667   walking\n",
              "473 -0.450800  0.173035 -3.212064  ...  1.290123  0.233333   walking\n",
              "\n",
              "[5 rows x 8 columns]"
            ]
          },
          "metadata": {
            "tags": []
          },
          "execution_count": 250
        }
      ]
    },
    {
      "cell_type": "code",
      "metadata": {
        "colab": {
          "base_uri": "https://localhost:8080/"
        },
        "id": "4r7ixq5cgCUl",
        "outputId": "37a672b2-4dfb-4bd7-ced2-afd8c21b1c18"
      },
      "source": [
        "df_result.index"
      ],
      "execution_count": 228,
      "outputs": [
        {
          "output_type": "execute_result",
          "data": {
            "text/plain": [
              "RangeIndex(start=0, stop=474, step=1)"
            ]
          },
          "metadata": {
            "tags": []
          },
          "execution_count": 228
        }
      ]
    },
    {
      "cell_type": "code",
      "metadata": {
        "colab": {
          "base_uri": "https://localhost:8080/"
        },
        "id": "xaf-depCglQI",
        "outputId": "8091fc2d-e3fd-45e4-ed32-be4ce39df02b"
      },
      "source": [
        "df_result.columns"
      ],
      "execution_count": 229,
      "outputs": [
        {
          "output_type": "execute_result",
          "data": {
            "text/plain": [
              "Index(['mean', 'std', 'cov', 'skew', 'kurtosis', 'average', 'zcr', 'activity'], dtype='object')"
            ]
          },
          "metadata": {
            "tags": []
          },
          "execution_count": 229
        }
      ]
    },
    {
      "cell_type": "code",
      "metadata": {
        "id": "LHNM4h5oguQQ"
      },
      "source": [
        "df_result.to_csv('/content/gdrive/MyDrive/Activity_Recognition/data.csv', index = False)"
      ],
      "execution_count": 230,
      "outputs": []
    },
    {
      "cell_type": "code",
      "metadata": {
        "id": "s5QSwQVRhSDC"
      },
      "source": [
        "data = pd.read_csv('/content/gdrive/MyDrive/Activity_Recognition/data.csv')"
      ],
      "execution_count": 231,
      "outputs": []
    },
    {
      "cell_type": "code",
      "metadata": {
        "colab": {
          "base_uri": "https://localhost:8080/"
        },
        "id": "AnrlS04lhjC0",
        "outputId": "5a934670-3680-4df0-a128-294c189cd0a3"
      },
      "source": [
        "data.shape"
      ],
      "execution_count": 232,
      "outputs": [
        {
          "output_type": "execute_result",
          "data": {
            "text/plain": [
              "(474, 8)"
            ]
          },
          "metadata": {
            "tags": []
          },
          "execution_count": 232
        }
      ]
    },
    {
      "cell_type": "code",
      "metadata": {
        "colab": {
          "base_uri": "https://localhost:8080/",
          "height": 204
        },
        "id": "MmzIY2Gthk-G",
        "outputId": "f9b90a70-ec35-4137-f34c-286c99c15b5b"
      },
      "source": [
        "data.head()"
      ],
      "execution_count": 233,
      "outputs": [
        {
          "output_type": "execute_result",
          "data": {
            "text/html": [
              "<div>\n",
              "<style scoped>\n",
              "    .dataframe tbody tr th:only-of-type {\n",
              "        vertical-align: middle;\n",
              "    }\n",
              "\n",
              "    .dataframe tbody tr th {\n",
              "        vertical-align: top;\n",
              "    }\n",
              "\n",
              "    .dataframe thead th {\n",
              "        text-align: right;\n",
              "    }\n",
              "</style>\n",
              "<table border=\"1\" class=\"dataframe\">\n",
              "  <thead>\n",
              "    <tr style=\"text-align: right;\">\n",
              "      <th></th>\n",
              "      <th>mean</th>\n",
              "      <th>std</th>\n",
              "      <th>cov</th>\n",
              "      <th>skew</th>\n",
              "      <th>kurtosis</th>\n",
              "      <th>average</th>\n",
              "      <th>zcr</th>\n",
              "      <th>activity</th>\n",
              "    </tr>\n",
              "  </thead>\n",
              "  <tbody>\n",
              "    <tr>\n",
              "      <th>0</th>\n",
              "      <td>-0.446000</td>\n",
              "      <td>0.011729</td>\n",
              "      <td>-49.317182</td>\n",
              "      <td>6.824522e-03</td>\n",
              "      <td>-1.007275</td>\n",
              "      <td>1.077264</td>\n",
              "      <td>0.2</td>\n",
              "      <td>sitting</td>\n",
              "    </tr>\n",
              "    <tr>\n",
              "      <th>1</th>\n",
              "      <td>-0.450000</td>\n",
              "      <td>0.009757</td>\n",
              "      <td>-59.953988</td>\n",
              "      <td>-5.503372e-01</td>\n",
              "      <td>-0.548248</td>\n",
              "      <td>1.073339</td>\n",
              "      <td>0.1</td>\n",
              "      <td>sitting</td>\n",
              "    </tr>\n",
              "    <tr>\n",
              "      <th>2</th>\n",
              "      <td>-0.461467</td>\n",
              "      <td>0.005380</td>\n",
              "      <td>-110.133924</td>\n",
              "      <td>8.554663e-02</td>\n",
              "      <td>-0.130164</td>\n",
              "      <td>1.076926</td>\n",
              "      <td>0.0</td>\n",
              "      <td>sitting</td>\n",
              "    </tr>\n",
              "    <tr>\n",
              "      <th>3</th>\n",
              "      <td>-0.463333</td>\n",
              "      <td>0.006505</td>\n",
              "      <td>-81.501049</td>\n",
              "      <td>-3.846877e-01</td>\n",
              "      <td>-1.079472</td>\n",
              "      <td>1.079975</td>\n",
              "      <td>0.0</td>\n",
              "      <td>sitting</td>\n",
              "    </tr>\n",
              "    <tr>\n",
              "      <th>4</th>\n",
              "      <td>-0.463333</td>\n",
              "      <td>0.004918</td>\n",
              "      <td>-130.344004</td>\n",
              "      <td>2.818428e-16</td>\n",
              "      <td>-1.228395</td>\n",
              "      <td>1.079833</td>\n",
              "      <td>0.0</td>\n",
              "      <td>sitting</td>\n",
              "    </tr>\n",
              "  </tbody>\n",
              "</table>\n",
              "</div>"
            ],
            "text/plain": [
              "       mean       std         cov  ...   average  zcr  activity\n",
              "0 -0.446000  0.011729  -49.317182  ...  1.077264  0.2   sitting\n",
              "1 -0.450000  0.009757  -59.953988  ...  1.073339  0.1   sitting\n",
              "2 -0.461467  0.005380 -110.133924  ...  1.076926  0.0   sitting\n",
              "3 -0.463333  0.006505  -81.501049  ...  1.079975  0.0   sitting\n",
              "4 -0.463333  0.004918 -130.344004  ...  1.079833  0.0   sitting\n",
              "\n",
              "[5 rows x 8 columns]"
            ]
          },
          "metadata": {
            "tags": []
          },
          "execution_count": 233
        }
      ]
    },
    {
      "cell_type": "markdown",
      "metadata": {
        "id": "9PvDxPutZdQr"
      },
      "source": [
        "# Shuffle DataFrame"
      ]
    },
    {
      "cell_type": "code",
      "metadata": {
        "colab": {
          "base_uri": "https://localhost:8080/",
          "height": 204
        },
        "id": "N1kSWsM0sKlF",
        "outputId": "3c9cc417-7932-4a32-9786-83758bb983ca"
      },
      "source": [
        "from sklearn.utils import shuffle\n",
        "index = data.index\n",
        "data_shuffled = shuffle(data)\n",
        "data_shuffled.head(5)\n"
      ],
      "execution_count": 234,
      "outputs": [
        {
          "output_type": "execute_result",
          "data": {
            "text/html": [
              "<div>\n",
              "<style scoped>\n",
              "    .dataframe tbody tr th:only-of-type {\n",
              "        vertical-align: middle;\n",
              "    }\n",
              "\n",
              "    .dataframe tbody tr th {\n",
              "        vertical-align: top;\n",
              "    }\n",
              "\n",
              "    .dataframe thead th {\n",
              "        text-align: right;\n",
              "    }\n",
              "</style>\n",
              "<table border=\"1\" class=\"dataframe\">\n",
              "  <thead>\n",
              "    <tr style=\"text-align: right;\">\n",
              "      <th></th>\n",
              "      <th>mean</th>\n",
              "      <th>std</th>\n",
              "      <th>cov</th>\n",
              "      <th>skew</th>\n",
              "      <th>kurtosis</th>\n",
              "      <th>average</th>\n",
              "      <th>zcr</th>\n",
              "      <th>activity</th>\n",
              "    </tr>\n",
              "  </thead>\n",
              "  <tbody>\n",
              "    <tr>\n",
              "      <th>316</th>\n",
              "      <td>-0.356400</td>\n",
              "      <td>0.276195</td>\n",
              "      <td>-0.815419</td>\n",
              "      <td>-0.620156</td>\n",
              "      <td>-0.417273</td>\n",
              "      <td>1.079486</td>\n",
              "      <td>0.4</td>\n",
              "      <td>walking</td>\n",
              "    </tr>\n",
              "    <tr>\n",
              "      <th>458</th>\n",
              "      <td>-0.352667</td>\n",
              "      <td>0.102712</td>\n",
              "      <td>-2.874344</td>\n",
              "      <td>0.293347</td>\n",
              "      <td>-0.723413</td>\n",
              "      <td>0.926401</td>\n",
              "      <td>0.3</td>\n",
              "      <td>walking</td>\n",
              "    </tr>\n",
              "    <tr>\n",
              "      <th>67</th>\n",
              "      <td>-0.434000</td>\n",
              "      <td>0.005613</td>\n",
              "      <td>-146.194357</td>\n",
              "      <td>0.954339</td>\n",
              "      <td>0.558607</td>\n",
              "      <td>1.075074</td>\n",
              "      <td>0.0</td>\n",
              "      <td>sitting</td>\n",
              "    </tr>\n",
              "    <tr>\n",
              "      <th>166</th>\n",
              "      <td>-0.339600</td>\n",
              "      <td>0.336356</td>\n",
              "      <td>-0.787344</td>\n",
              "      <td>0.182089</td>\n",
              "      <td>-0.045271</td>\n",
              "      <td>0.912298</td>\n",
              "      <td>0.3</td>\n",
              "      <td>stairs</td>\n",
              "    </tr>\n",
              "    <tr>\n",
              "      <th>33</th>\n",
              "      <td>-0.433200</td>\n",
              "      <td>0.006717</td>\n",
              "      <td>-95.902469</td>\n",
              "      <td>0.620498</td>\n",
              "      <td>0.060063</td>\n",
              "      <td>1.075973</td>\n",
              "      <td>0.0</td>\n",
              "      <td>sitting</td>\n",
              "    </tr>\n",
              "  </tbody>\n",
              "</table>\n",
              "</div>"
            ],
            "text/plain": [
              "         mean       std         cov      skew  kurtosis   average  zcr activity\n",
              "316 -0.356400  0.276195   -0.815419 -0.620156 -0.417273  1.079486  0.4  walking\n",
              "458 -0.352667  0.102712   -2.874344  0.293347 -0.723413  0.926401  0.3  walking\n",
              "67  -0.434000  0.005613 -146.194357  0.954339  0.558607  1.075074  0.0  sitting\n",
              "166 -0.339600  0.336356   -0.787344  0.182089 -0.045271  0.912298  0.3   stairs\n",
              "33  -0.433200  0.006717  -95.902469  0.620498  0.060063  1.075973  0.0  sitting"
            ]
          },
          "metadata": {
            "tags": []
          },
          "execution_count": 234
        }
      ]
    },
    {
      "cell_type": "code",
      "metadata": {
        "colab": {
          "base_uri": "https://localhost:8080/",
          "height": 204
        },
        "id": "v5fhzPzxsKuU",
        "outputId": "aaca6b06-831e-4c20-948b-936a390423c3"
      },
      "source": [
        "data_shuffled.index = index\n",
        "data_shuffled.head(5)"
      ],
      "execution_count": 235,
      "outputs": [
        {
          "output_type": "execute_result",
          "data": {
            "text/html": [
              "<div>\n",
              "<style scoped>\n",
              "    .dataframe tbody tr th:only-of-type {\n",
              "        vertical-align: middle;\n",
              "    }\n",
              "\n",
              "    .dataframe tbody tr th {\n",
              "        vertical-align: top;\n",
              "    }\n",
              "\n",
              "    .dataframe thead th {\n",
              "        text-align: right;\n",
              "    }\n",
              "</style>\n",
              "<table border=\"1\" class=\"dataframe\">\n",
              "  <thead>\n",
              "    <tr style=\"text-align: right;\">\n",
              "      <th></th>\n",
              "      <th>mean</th>\n",
              "      <th>std</th>\n",
              "      <th>cov</th>\n",
              "      <th>skew</th>\n",
              "      <th>kurtosis</th>\n",
              "      <th>average</th>\n",
              "      <th>zcr</th>\n",
              "      <th>activity</th>\n",
              "    </tr>\n",
              "  </thead>\n",
              "  <tbody>\n",
              "    <tr>\n",
              "      <th>0</th>\n",
              "      <td>-0.356400</td>\n",
              "      <td>0.276195</td>\n",
              "      <td>-0.815419</td>\n",
              "      <td>-0.620156</td>\n",
              "      <td>-0.417273</td>\n",
              "      <td>1.079486</td>\n",
              "      <td>0.4</td>\n",
              "      <td>walking</td>\n",
              "    </tr>\n",
              "    <tr>\n",
              "      <th>1</th>\n",
              "      <td>-0.352667</td>\n",
              "      <td>0.102712</td>\n",
              "      <td>-2.874344</td>\n",
              "      <td>0.293347</td>\n",
              "      <td>-0.723413</td>\n",
              "      <td>0.926401</td>\n",
              "      <td>0.3</td>\n",
              "      <td>walking</td>\n",
              "    </tr>\n",
              "    <tr>\n",
              "      <th>2</th>\n",
              "      <td>-0.434000</td>\n",
              "      <td>0.005613</td>\n",
              "      <td>-146.194357</td>\n",
              "      <td>0.954339</td>\n",
              "      <td>0.558607</td>\n",
              "      <td>1.075074</td>\n",
              "      <td>0.0</td>\n",
              "      <td>sitting</td>\n",
              "    </tr>\n",
              "    <tr>\n",
              "      <th>3</th>\n",
              "      <td>-0.339600</td>\n",
              "      <td>0.336356</td>\n",
              "      <td>-0.787344</td>\n",
              "      <td>0.182089</td>\n",
              "      <td>-0.045271</td>\n",
              "      <td>0.912298</td>\n",
              "      <td>0.3</td>\n",
              "      <td>stairs</td>\n",
              "    </tr>\n",
              "    <tr>\n",
              "      <th>4</th>\n",
              "      <td>-0.433200</td>\n",
              "      <td>0.006717</td>\n",
              "      <td>-95.902469</td>\n",
              "      <td>0.620498</td>\n",
              "      <td>0.060063</td>\n",
              "      <td>1.075973</td>\n",
              "      <td>0.0</td>\n",
              "      <td>sitting</td>\n",
              "    </tr>\n",
              "  </tbody>\n",
              "</table>\n",
              "</div>"
            ],
            "text/plain": [
              "       mean       std         cov      skew  kurtosis   average  zcr activity\n",
              "0 -0.356400  0.276195   -0.815419 -0.620156 -0.417273  1.079486  0.4  walking\n",
              "1 -0.352667  0.102712   -2.874344  0.293347 -0.723413  0.926401  0.3  walking\n",
              "2 -0.434000  0.005613 -146.194357  0.954339  0.558607  1.075074  0.0  sitting\n",
              "3 -0.339600  0.336356   -0.787344  0.182089 -0.045271  0.912298  0.3   stairs\n",
              "4 -0.433200  0.006717  -95.902469  0.620498  0.060063  1.075973  0.0  sitting"
            ]
          },
          "metadata": {
            "tags": []
          },
          "execution_count": 235
        }
      ]
    },
    {
      "cell_type": "code",
      "metadata": {
        "colab": {
          "base_uri": "https://localhost:8080/"
        },
        "id": "-vMIJwi274OV",
        "outputId": "111f24f2-043f-4057-d10e-c545e30db871"
      },
      "source": [
        "data_shuffled.isna().sum()"
      ],
      "execution_count": 237,
      "outputs": [
        {
          "output_type": "execute_result",
          "data": {
            "text/plain": [
              "mean        0\n",
              "std         0\n",
              "cov         0\n",
              "skew        0\n",
              "kurtosis    0\n",
              "average     0\n",
              "zcr         0\n",
              "activity    0\n",
              "dtype: int64"
            ]
          },
          "metadata": {
            "tags": []
          },
          "execution_count": 237
        }
      ]
    },
    {
      "cell_type": "code",
      "metadata": {
        "id": "DmpMNsV1tAmb"
      },
      "source": [
        "data_shuffled.to_csv('/content/gdrive/MyDrive/Activity_Recognition/data_shuffled.csv', index = False)"
      ],
      "execution_count": 238,
      "outputs": []
    },
    {
      "cell_type": "code",
      "metadata": {
        "id": "x-jKtWj2sKxj"
      },
      "source": [
        "#data_shuffled = pd.read_csv('/content/gdrive/MyDrive/Activity_Recognition/data_shuffled.csv')"
      ],
      "execution_count": 239,
      "outputs": []
    },
    {
      "cell_type": "markdown",
      "metadata": {
        "id": "HyTIHWZ_Zjem"
      },
      "source": [
        "#Model"
      ]
    },
    {
      "cell_type": "code",
      "metadata": {
        "id": "TH8zovA-iaXl"
      },
      "source": [
        "feature = ['mean','std','cov','skew','kurtosis','average','zcr']\n",
        "X = data_shuffled[feature]"
      ],
      "execution_count": 240,
      "outputs": []
    },
    {
      "cell_type": "code",
      "metadata": {
        "colab": {
          "base_uri": "https://localhost:8080/"
        },
        "id": "jCxOweq5jDMs",
        "outputId": "20dca4ba-2748-491e-e415-ccccba158e98"
      },
      "source": [
        "y = data_shuffled['activity'].map({'sitting': 1, 'stairs': 2, 'walking': 3}).to_numpy()\n",
        "y.dtype"
      ],
      "execution_count": 241,
      "outputs": [
        {
          "output_type": "execute_result",
          "data": {
            "text/plain": [
              "dtype('int64')"
            ]
          },
          "metadata": {
            "tags": []
          },
          "execution_count": 241
        }
      ]
    },
    {
      "cell_type": "code",
      "metadata": {
        "id": "o7DfJ8sVserM"
      },
      "source": [
        "X_train , X_test , y_train , y_test = train_test_split(X, y , test_size=0.20, random_state=42)"
      ],
      "execution_count": 242,
      "outputs": []
    },
    {
      "cell_type": "code",
      "metadata": {
        "colab": {
          "base_uri": "https://localhost:8080/"
        },
        "id": "WbkVkgr5sAs4",
        "outputId": "bc76a2cb-7900-467f-d532-174193a97b44"
      },
      "source": [
        "X_train.shape , X_test.shape"
      ],
      "execution_count": 243,
      "outputs": [
        {
          "output_type": "execute_result",
          "data": {
            "text/plain": [
              "((379, 7), (95, 7))"
            ]
          },
          "metadata": {
            "tags": []
          },
          "execution_count": 243
        }
      ]
    },
    {
      "cell_type": "code",
      "metadata": {
        "colab": {
          "base_uri": "https://localhost:8080/"
        },
        "id": "1ynZ-fPYsA16",
        "outputId": "95203cd5-ba24-4469-ec92-6e45c6ed1a72"
      },
      "source": [
        "svm = LinearSVC(random_state = 42, C=1, penalty='l2' , dual=False)\n",
        "svm.fit(X_train,y_train)\n",
        "y_pred = svm.predict(X_test)\n",
        "print(\"Accuracy linear SVM : {}\".format(accuracy_score(y_test,y_pred)))"
      ],
      "execution_count": 247,
      "outputs": [
        {
          "output_type": "stream",
          "text": [
            "Accuracy linear SVM : 0.9473684210526315\n"
          ],
          "name": "stdout"
        }
      ]
    },
    {
      "cell_type": "code",
      "metadata": {
        "colab": {
          "base_uri": "https://localhost:8080/"
        },
        "id": "iXjYVYitsA_m",
        "outputId": "920d5a7a-2d0a-45f1-96bc-d519a0a0d0a4"
      },
      "source": [
        "print(classification_report(y_test,y_pred))"
      ],
      "execution_count": 248,
      "outputs": [
        {
          "output_type": "stream",
          "text": [
            "              precision    recall  f1-score   support\n",
            "\n",
            "           1       1.00      1.00      1.00        23\n",
            "           2       0.95      0.92      0.93        38\n",
            "           3       0.91      0.94      0.93        34\n",
            "\n",
            "    accuracy                           0.95        95\n",
            "   macro avg       0.95      0.95      0.95        95\n",
            "weighted avg       0.95      0.95      0.95        95\n",
            "\n"
          ],
          "name": "stdout"
        }
      ]
    },
    {
      "cell_type": "code",
      "metadata": {
        "colab": {
          "base_uri": "https://localhost:8080/",
          "height": 300
        },
        "id": "mqfxqf3ysBG9",
        "outputId": "d7341e62-a59a-4425-acba-f96ca9e5cd85"
      },
      "source": [
        "print(plot_confusion_matrix(svm,X_test,y_test,normalize='true'))"
      ],
      "execution_count": 249,
      "outputs": [
        {
          "output_type": "stream",
          "text": [
            "<sklearn.metrics._plot.confusion_matrix.ConfusionMatrixDisplay object at 0x7f857715e910>\n"
          ],
          "name": "stdout"
        },
        {
          "output_type": "display_data",
          "data": {
            "image/png": "[encoded data removed]",
            "text/plain": [
              "<Figure size 432x288 with 2 Axes>"
            ]
          },
          "metadata": {
            "tags": [],
            "needs_background": "light"
          }
        }
      ]
    },
    {
      "cell_type": "code",
      "metadata": {
        "id": "-6EpyfhQ_NTs"
      },
      "source": [
        ""
      ],
      "execution_count": 246,
      "outputs": []
    }
  ]
}